{
 "cells": [
  {
   "cell_type": "code",
   "execution_count": 1,
   "id": "15c37939-b781-43fb-8630-ac3d28272107",
   "metadata": {},
   "outputs": [],
   "source": [
    "import numpy as np\n",
    "import tritonclient.http"
   ]
  },
  {
   "cell_type": "code",
   "execution_count": 2,
   "id": "d9022daf-56ac-4104-bc3f-f10dd6ef0502",
   "metadata": {},
   "outputs": [],
   "source": [
    "url = \"10.10.66.25:8000\"\n",
    "model_name = \"speech-video-handler\"\n",
    "model_version = \"1\"\n",
    "batch_size = 1"
   ]
  },
  {
   "cell_type": "code",
   "execution_count": 3,
   "id": "da1c72f3-648f-472a-b586-490639542a79",
   "metadata": {},
   "outputs": [],
   "source": [
    "triton_client = tritonclient.http.InferenceServerClient(url=url, verbose=False)"
   ]
  },
  {
   "cell_type": "code",
   "execution_count": 4,
   "id": "821ef504-cfd4-4a3d-8741-a20b1c6e137e",
   "metadata": {},
   "outputs": [
    {
     "data": {
      "text/plain": [
       "True"
      ]
     },
     "execution_count": 4,
     "metadata": {},
     "output_type": "execute_result"
    }
   ],
   "source": [
    "triton_client.is_model_ready(model_name=model_name, model_version=model_version)"
   ]
  },
  {
   "cell_type": "code",
   "execution_count": 5,
   "id": "6ce72346-f47d-4104-8ac3-3276188c7237",
   "metadata": {},
   "outputs": [],
   "source": [
    "model_metadata = triton_client.get_model_metadata(model_name=model_name, model_version=model_version)"
   ]
  },
  {
   "cell_type": "code",
   "execution_count": 6,
   "id": "66476e56-5123-466a-a92b-5d7e480c2119",
   "metadata": {},
   "outputs": [],
   "source": [
    "model_config = triton_client.get_model_config(model_name=model_name, model_version=model_version)"
   ]
  },
  {
   "cell_type": "markdown",
   "id": "921a67ff-bf24-4cbc-b822-12c7395f270f",
   "metadata": {},
   "source": [
    "### Video handler requests"
   ]
  },
  {
   "cell_type": "code",
   "execution_count": 7,
   "id": "bf275a43-18df-4302-b97e-621de92405fc",
   "metadata": {},
   "outputs": [],
   "source": [
    "_input = tritonclient.http.InferInput(name=\"video_url\", shape=(batch_size,), datatype=\"BYTES\")\n",
    "output_1 = tritonclient.http.InferRequestedOutput(name=\"AUDIO_TEXT\", binary_data=False)\n",
    "# output_2 = tritonclient.http.InferRequestedOutput(name=\"LANGUAGE\", binary_data=False)"
   ]
  },
  {
   "cell_type": "code",
   "execution_count": 8,
   "id": "bd240145-bdd5-4d4e-89d7-392f9d7404cd",
   "metadata": {},
   "outputs": [],
   "source": [
    "video_url = \"https://cdn-st.rutubelist.ru/media/d1/e7/642dc2194fcdb69664f832d5f2dd/fhd.mp4\""
   ]
  },
  {
   "cell_type": "code",
   "execution_count": 9,
   "id": "7471dda1-4a56-4d48-a1bf-f54941ab9e5a",
   "metadata": {},
   "outputs": [
    {
     "name": "stdout",
     "output_type": "stream",
     "text": [
      "{'model_name': 'speech-video-handler', 'model_version': '1', 'outputs': [{'name': 'AUDIO_TEXT', 'datatype': 'BYTES', 'shape': [], 'data': ['я убежден что чем беднее человек тем сложнее его удовлетворить потому что тот человек у которого нет денег он всегда недоволен чем он всегда просит больше который в принципе удовлетворен своими деньгами он говорит классно это здорово спасибо и идет и делает']}]}\n"
     ]
    }
   ],
   "source": [
    "_input.set_data_from_numpy(np.asarray([video_url] * batch_size, dtype=object))\n",
    "\n",
    "response = triton_client.infer(\n",
    "        model_name=model_name,\n",
    "        model_version=model_version,\n",
    "        inputs=[_input],\n",
    "        outputs=[output_1],\n",
    "    )\n",
    "\n",
    "print(response.get_response())"
   ]
  },
  {
   "cell_type": "markdown",
   "id": "d32b19c9-0a53-4dcd-ac7d-1bb80baa7d4f",
   "metadata": {},
   "source": [
    "### Xclip handler requests"
   ]
  },
  {
   "cell_type": "code",
   "execution_count": 11,
   "id": "dc86343e-7b7e-4f9b-a16f-61c2eef60f0c",
   "metadata": {},
   "outputs": [],
   "source": [
    "model_name = \"xclip-video-handler\"\n",
    "\n",
    "_input = tritonclient.http.InferInput(name=\"video_url\", shape=(batch_size,), datatype=\"BYTES\")\n",
    "output_1 = tritonclient.http.InferRequestedOutput(name=\"EMBEDDING\", binary_data=False)"
   ]
  },
  {
   "cell_type": "code",
   "execution_count": 12,
   "id": "1f82fbad-9f01-4f7c-b7fd-d3c67be4c373",
   "metadata": {},
   "outputs": [
    {
     "ename": "InferenceServerException",
     "evalue": "[500] Failed to process the request(s) for model instance 'xclip-video-handler_0_0', message: BdbQuit: <EMPTY MESSAGE>\n\nAt:\n  /usr/lib/python3.10/bdb.py(115): dispatch_line\n  /usr/lib/python3.10/bdb.py(90): trace_dispatch\n  /src/models/xclip-video-handler/1/model.py(67): execute\n",
     "output_type": "error",
     "traceback": [
      "\u001b[0;31m---------------------------------------------------------------------------\u001b[0m",
      "\u001b[0;31mInferenceServerException\u001b[0m                  Traceback (most recent call last)",
      "Cell \u001b[0;32mIn[12], line 4\u001b[0m\n\u001b[1;32m      1\u001b[0m video_url \u001b[38;5;241m=\u001b[39m \u001b[38;5;124m\"\u001b[39m\u001b[38;5;124mhttps://cdn-st.rutubelist.ru/media/d1/e7/642dc2194fcdb69664f832d5f2dd/fhd.mp4\u001b[39m\u001b[38;5;124m\"\u001b[39m\n\u001b[1;32m      2\u001b[0m _input\u001b[38;5;241m.\u001b[39mset_data_from_numpy(np\u001b[38;5;241m.\u001b[39masarray([video_url] \u001b[38;5;241m*\u001b[39m batch_size, dtype\u001b[38;5;241m=\u001b[39m\u001b[38;5;28mobject\u001b[39m))\n\u001b[0;32m----> 4\u001b[0m response \u001b[38;5;241m=\u001b[39m \u001b[43mtriton_client\u001b[49m\u001b[38;5;241;43m.\u001b[39;49m\u001b[43minfer\u001b[49m\u001b[43m(\u001b[49m\n\u001b[1;32m      5\u001b[0m \u001b[43m        \u001b[49m\u001b[43mmodel_name\u001b[49m\u001b[38;5;241;43m=\u001b[39;49m\u001b[43mmodel_name\u001b[49m\u001b[43m,\u001b[49m\n\u001b[1;32m      6\u001b[0m \u001b[43m        \u001b[49m\u001b[43mmodel_version\u001b[49m\u001b[38;5;241;43m=\u001b[39;49m\u001b[43mmodel_version\u001b[49m\u001b[43m,\u001b[49m\n\u001b[1;32m      7\u001b[0m \u001b[43m        \u001b[49m\u001b[43minputs\u001b[49m\u001b[38;5;241;43m=\u001b[39;49m\u001b[43m[\u001b[49m\u001b[43m_input\u001b[49m\u001b[43m]\u001b[49m\u001b[43m,\u001b[49m\n\u001b[1;32m      8\u001b[0m \u001b[43m        \u001b[49m\u001b[43moutputs\u001b[49m\u001b[38;5;241;43m=\u001b[39;49m\u001b[43m[\u001b[49m\u001b[43moutput_1\u001b[49m\u001b[43m]\u001b[49m\u001b[43m,\u001b[49m\n\u001b[1;32m      9\u001b[0m \u001b[43m    \u001b[49m\u001b[43m)\u001b[49m\n\u001b[1;32m     11\u001b[0m \u001b[38;5;28mprint\u001b[39m(response\u001b[38;5;241m.\u001b[39mget_response())\n",
      "File \u001b[0;32m~/Projects/hacks/ShortVideoSearchEngine/model-inferense/venv/lib/python3.11/site-packages/tritonclient/http/_client.py:1482\u001b[0m, in \u001b[0;36mInferenceServerClient.infer\u001b[0;34m(self, model_name, inputs, model_version, outputs, request_id, sequence_id, sequence_start, sequence_end, priority, timeout, headers, query_params, request_compression_algorithm, response_compression_algorithm, parameters)\u001b[0m\n\u001b[1;32m   1474\u001b[0m     request_uri \u001b[38;5;241m=\u001b[39m \u001b[38;5;124m\"\u001b[39m\u001b[38;5;124mv2/models/\u001b[39m\u001b[38;5;132;01m{}\u001b[39;00m\u001b[38;5;124m/infer\u001b[39m\u001b[38;5;124m\"\u001b[39m\u001b[38;5;241m.\u001b[39mformat(quote(model_name))\n\u001b[1;32m   1476\u001b[0m response \u001b[38;5;241m=\u001b[39m \u001b[38;5;28mself\u001b[39m\u001b[38;5;241m.\u001b[39m_post(\n\u001b[1;32m   1477\u001b[0m     request_uri\u001b[38;5;241m=\u001b[39mrequest_uri,\n\u001b[1;32m   1478\u001b[0m     request_body\u001b[38;5;241m=\u001b[39mrequest_body,\n\u001b[1;32m   1479\u001b[0m     headers\u001b[38;5;241m=\u001b[39mheaders,\n\u001b[1;32m   1480\u001b[0m     query_params\u001b[38;5;241m=\u001b[39mquery_params,\n\u001b[1;32m   1481\u001b[0m )\n\u001b[0;32m-> 1482\u001b[0m \u001b[43m_raise_if_error\u001b[49m\u001b[43m(\u001b[49m\u001b[43mresponse\u001b[49m\u001b[43m)\u001b[49m\n\u001b[1;32m   1484\u001b[0m \u001b[38;5;28;01mreturn\u001b[39;00m InferResult(response, \u001b[38;5;28mself\u001b[39m\u001b[38;5;241m.\u001b[39m_verbose)\n",
      "File \u001b[0;32m~/Projects/hacks/ShortVideoSearchEngine/model-inferense/venv/lib/python3.11/site-packages/tritonclient/http/_utils.py:69\u001b[0m, in \u001b[0;36m_raise_if_error\u001b[0;34m(response)\u001b[0m\n\u001b[1;32m     67\u001b[0m error \u001b[38;5;241m=\u001b[39m _get_error(response)\n\u001b[1;32m     68\u001b[0m \u001b[38;5;28;01mif\u001b[39;00m error \u001b[38;5;129;01mis\u001b[39;00m \u001b[38;5;129;01mnot\u001b[39;00m \u001b[38;5;28;01mNone\u001b[39;00m:\n\u001b[0;32m---> 69\u001b[0m     \u001b[38;5;28;01mraise\u001b[39;00m error\n",
      "\u001b[0;31mInferenceServerException\u001b[0m: [500] Failed to process the request(s) for model instance 'xclip-video-handler_0_0', message: BdbQuit: <EMPTY MESSAGE>\n\nAt:\n  /usr/lib/python3.10/bdb.py(115): dispatch_line\n  /usr/lib/python3.10/bdb.py(90): trace_dispatch\n  /src/models/xclip-video-handler/1/model.py(67): execute\n"
     ]
    }
   ],
   "source": [
    "video_url = \"https://cdn-st.rutubelist.ru/media/d1/e7/642dc2194fcdb69664f832d5f2dd/fhd.mp4\"\n",
    "_input.set_data_from_numpy(np.asarray([video_url] * batch_size, dtype=object))\n",
    "\n",
    "response = triton_client.infer(\n",
    "        model_name=model_name,\n",
    "        model_version=model_version,\n",
    "        inputs=[_input],\n",
    "        outputs=[output_1],\n",
    "    )\n",
    "\n",
    "print(response.get_response())"
   ]
  },
  {
   "cell_type": "code",
   "execution_count": null,
   "id": "e6ba0bc5-9ed2-46c5-9d2b-b6e76600ca92",
   "metadata": {},
   "outputs": [],
   "source": [
    "triton_client.close()"
   ]
  }
 ],
 "metadata": {
  "kernelspec": {
   "display_name": "Python 3 (ipykernel)",
   "language": "python",
   "name": "python3"
  },
  "language_info": {
   "codemirror_mode": {
    "name": "ipython",
    "version": 3
   },
   "file_extension": ".py",
   "mimetype": "text/x-python",
   "name": "python",
   "nbconvert_exporter": "python",
   "pygments_lexer": "ipython3",
   "version": "3.11.5"
  }
 },
 "nbformat": 4,
 "nbformat_minor": 5
}
