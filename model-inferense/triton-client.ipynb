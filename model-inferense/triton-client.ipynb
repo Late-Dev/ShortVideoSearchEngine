{
 "cells": [
  {
   "cell_type": "code",
   "execution_count": 14,
   "id": "15c37939-b781-43fb-8630-ac3d28272107",
   "metadata": {},
   "outputs": [],
   "source": [
    "import numpy as np\n",
    "import tritonclient.http"
   ]
  },
  {
   "cell_type": "code",
   "execution_count": 15,
   "id": "d9022daf-56ac-4104-bc3f-f10dd6ef0502",
   "metadata": {},
   "outputs": [],
   "source": [
    "url = \"10.10.66.25:8000\"\n",
    "model_name = \"video-handler\"\n",
    "model_version = \"1\"\n",
    "batch_size = 1"
   ]
  },
  {
   "cell_type": "code",
   "execution_count": 16,
   "id": "da1c72f3-648f-472a-b586-490639542a79",
   "metadata": {},
   "outputs": [],
   "source": [
    "triton_client = tritonclient.http.InferenceServerClient(url=url, verbose=False)"
   ]
  },
  {
   "cell_type": "code",
   "execution_count": 17,
   "id": "821ef504-cfd4-4a3d-8741-a20b1c6e137e",
   "metadata": {},
   "outputs": [
    {
     "data": {
      "text/plain": [
       "True"
      ]
     },
     "execution_count": 17,
     "metadata": {},
     "output_type": "execute_result"
    }
   ],
   "source": [
    "triton_client.is_model_ready(model_name=model_name, model_version=model_version)"
   ]
  },
  {
   "cell_type": "code",
   "execution_count": 18,
   "id": "6ce72346-f47d-4104-8ac3-3276188c7237",
   "metadata": {},
   "outputs": [],
   "source": [
    "model_metadata = triton_client.get_model_metadata(model_name=model_name, model_version=model_version)"
   ]
  },
  {
   "cell_type": "code",
   "execution_count": 19,
   "id": "66476e56-5123-466a-a92b-5d7e480c2119",
   "metadata": {},
   "outputs": [],
   "source": [
    "model_config = triton_client.get_model_config(model_name=model_name, model_version=model_version)"
   ]
  },
  {
   "cell_type": "markdown",
   "id": "921a67ff-bf24-4cbc-b822-12c7395f270f",
   "metadata": {},
   "source": [
    "### Video handler requests"
   ]
  },
  {
   "cell_type": "code",
   "execution_count": 20,
   "id": "bf275a43-18df-4302-b97e-621de92405fc",
   "metadata": {},
   "outputs": [],
   "source": [
    "_input = tritonclient.http.InferInput(name=\"video_url\", shape=(batch_size,), datatype=\"BYTES\")\n",
    "output_1 = tritonclient.http.InferRequestedOutput(name=\"AUDIO_TEXT\", binary_data=False)\n",
    "# output_2 = tritonclient.http.InferRequestedOutput(name=\"LANGUAGE\", binary_data=False)"
   ]
  },
  {
   "cell_type": "code",
   "execution_count": 8,
   "id": "bd240145-bdd5-4d4e-89d7-392f9d7404cd",
   "metadata": {},
   "outputs": [],
   "source": [
    "video_url = \"https://cdn-st.rutubelist.ru/media/d1/e7/642dc2194fcdb69664f832d5f2dd/fhd.mp4\""
   ]
  },
  {
   "cell_type": "code",
   "execution_count": 21,
   "id": "7471dda1-4a56-4d48-a1bf-f54941ab9e5a",
   "metadata": {},
   "outputs": [
    {
     "name": "stdout",
     "output_type": "stream",
     "text": [
      "{'model_name': 'video-handler', 'model_version': '1', 'outputs': [{'name': 'AUDIO_TEXT', 'datatype': 'BYTES', 'shape': [], 'data': ['я убежден что чем беднее человек тем сложнее его удовлетворить потому что тот человек у которого нет денег он всегда недоволен чем он всегда просит больше который в принципе удовлетворен своими деньгами он говорит классно это здорово спасибо и идет и делает']}]}\n"
     ]
    }
   ],
   "source": [
    "_input.set_data_from_numpy(np.asarray([video_url] * batch_size, dtype=object))\n",
    "\n",
    "response = triton_client.infer(\n",
    "        model_name=model_name,\n",
    "        model_version=model_version,\n",
    "        inputs=[_input],\n",
    "        outputs=[output_1],\n",
    "    )\n",
    "\n",
    "print(response.get_response())"
   ]
  },
  {
   "cell_type": "code",
   "execution_count": 22,
   "id": "b8e7d895-8abc-4e68-9d6a-e11496f741d8",
   "metadata": {},
   "outputs": [],
   "source": [
    "triton_client.close()"
   ]
  },
  {
   "cell_type": "code",
   "execution_count": null,
   "id": "220742a6-1d88-4e79-ae98-b06ab379d2fa",
   "metadata": {},
   "outputs": [],
   "source": []
  }
 ],
 "metadata": {
  "kernelspec": {
   "display_name": "Python 3 (ipykernel)",
   "language": "python",
   "name": "python3"
  },
  "language_info": {
   "codemirror_mode": {
    "name": "ipython",
    "version": 3
   },
   "file_extension": ".py",
   "mimetype": "text/x-python",
   "name": "python",
   "nbconvert_exporter": "python",
   "pygments_lexer": "ipython3",
   "version": "3.11.5"
  }
 },
 "nbformat": 4,
 "nbformat_minor": 5
}
