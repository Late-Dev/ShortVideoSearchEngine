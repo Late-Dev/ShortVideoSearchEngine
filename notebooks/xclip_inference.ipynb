{
 "cells": [
  {
   "cell_type": "code",
   "execution_count": 1,
   "id": "07ec668a-8eae-4114-b92d-8e9d5e770583",
   "metadata": {},
   "outputs": [
    {
     "name": "stderr",
     "output_type": "stream",
     "text": [
      "2024-06-12 09:33:29.102742: I tensorflow/core/platform/cpu_feature_guard.cc:193] This TensorFlow binary is optimized with oneAPI Deep Neural Network Library (oneDNN) to use the following CPU instructions in performance-critical operations:  AVX2 FMA\n",
      "To enable them in other operations, rebuild TensorFlow with the appropriate compiler flags.\n",
      "2024-06-12 09:33:29.614882: W tensorflow/compiler/xla/stream_executor/platform/default/dso_loader.cc:64] Could not load dynamic library 'libnvinfer.so.7'; dlerror: libnvinfer.so.7: cannot open shared object file: No such file or directory\n",
      "2024-06-12 09:33:29.614925: W tensorflow/compiler/xla/stream_executor/platform/default/dso_loader.cc:64] Could not load dynamic library 'libnvinfer_plugin.so.7'; dlerror: libnvinfer_plugin.so.7: cannot open shared object file: No such file or directory\n",
      "2024-06-12 09:33:29.614929: W tensorflow/compiler/tf2tensorrt/utils/py_utils.cc:38] TF-TRT Warning: Cannot dlopen some TensorRT libraries. If you would like to use Nvidia GPU with TensorRT, please make sure the missing libraries mentioned above are installed properly.\n"
     ]
    }
   ],
   "source": [
    "import json\n",
    "\n",
    "import av\n",
    "import torch\n",
    "import numpy as np\n",
    "import pandas as pd\n",
    "import requests\n",
    "\n",
    "from tqdm import tqdm\n",
    "\n",
    "from transformers import AutoProcessor, AutoModel\n",
    "\n",
    "np.random.seed(0)\n",
    "\n",
    "\n",
    "def read_video_pyav(container, indices):\n",
    "    '''\n",
    "    Decode the video with PyAV decoder.\n",
    "    Args:\n",
    "        container (`av.container.input.InputContainer`): PyAV container.\n",
    "        indices (`List[int]`): List of frame indices to decode.\n",
    "    Returns:\n",
    "        result (np.ndarray): np array of decoded frames of shape (num_frames, height, width, 3).\n",
    "    '''\n",
    "    frames = []\n",
    "    container.seek(0)\n",
    "    start_index = indices[0]\n",
    "    end_index = indices[-1]\n",
    "    for i, frame in enumerate(container.decode(video=0)):\n",
    "        if i > end_index:\n",
    "            break\n",
    "        if i >= start_index and i in indices:\n",
    "            frames.append(frame)\n",
    "    return np.stack([x.to_ndarray(format=\"rgb24\") for x in frames])\n",
    "\n",
    "\n",
    "def sample_frame_indices(clip_len, frame_sample_rate, seg_len):\n",
    "    '''\n",
    "    Sample a given number of frame indices from the video.\n",
    "    Args:\n",
    "        clip_len (`int`): Total number of frames to sample.\n",
    "        frame_sample_rate (`int`): Sample every n-th frame.\n",
    "        seg_len (`int`): Maximum allowed index of sample's last frame.\n",
    "    Returns:\n",
    "        indices (`List[int]`): List of sampled frame indices\n",
    "    '''\n",
    "    converted_len = int(clip_len * frame_sample_rate)\n",
    "    end_idx = np.random.randint(converted_len, seg_len)\n",
    "    start_idx = end_idx - converted_len\n",
    "    indices = np.linspace(start_idx, end_idx, num=clip_len)\n",
    "    indices = np.clip(indices, start_idx, end_idx - 1).astype(np.int64)\n",
    "    return indices"
   ]
  },
  {
   "cell_type": "code",
   "execution_count": 2,
   "id": "faaf42b4-e340-46a3-822f-d2b9950f419d",
   "metadata": {},
   "outputs": [],
   "source": [
    "def download_video(url):\n",
    "    out_path = f'test_vlm.mp4'\n",
    "\n",
    "    try:\n",
    "        response = requests.get(url, stream=True, timeout=300)\n",
    "        response.raise_for_status() \n",
    "        with open(out_path, 'wb') as file:\n",
    "            for chunk in response.iter_content(chunk_size=8192):\n",
    "                file.write(chunk)\n",
    "    except Exception as e:\n",
    "        print(f\"An error occurred: {e}\")\n",
    "        return ''\n",
    "\n",
    "    return out_path"
   ]
  },
  {
   "cell_type": "code",
   "execution_count": 3,
   "id": "9eb82aa2-411c-4b2c-a94e-9deaf4745ec2",
   "metadata": {},
   "outputs": [
    {
     "data": {
      "text/plain": [
       "Linear(in_features=512, out_features=1024, bias=False)"
      ]
     },
     "execution_count": 3,
     "metadata": {},
     "output_type": "execute_result"
    }
   ],
   "source": [
    "processor = AutoProcessor.from_pretrained(\"finetuned-xclip-base-patch16\")\n",
    "model = AutoModel.from_pretrained(\"finetuned-xclip-base-patch16\")\n",
    "model.to('cuda')\n",
    "projector = torch.nn.Linear(512, 1024, bias=False)\n",
    "projector.load_state_dict(torch.load('projector.pth'))\n",
    "projector.to('cuda')\n",
    "model.eval()\n",
    "projector.eval()"
   ]
  },
  {
   "cell_type": "code",
   "execution_count": 4,
   "id": "f044257b-a6c8-48cd-b5f9-7af0ee8f02ab",
   "metadata": {},
   "outputs": [],
   "source": [
    "# data = pd.read_csv('yappy_hackaton_2024_400k.csv').iloc[:1000]"
   ]
  },
  {
   "cell_type": "code",
   "execution_count": 5,
   "id": "2caab666-fabd-4f11-a9a7-3572371ee354",
   "metadata": {},
   "outputs": [],
   "source": [
    "data = pd.read_csv('ЛЦТ датасет - All.csv')"
   ]
  },
  {
   "cell_type": "code",
   "execution_count": 6,
   "id": "6caaf299-8729-41dd-aa64-86b3962947d7",
   "metadata": {},
   "outputs": [],
   "source": [
    "urls = []\n",
    "for line in data.urls:\n",
    "    urls += line.split()"
   ]
  },
  {
   "cell_type": "code",
   "execution_count": 7,
   "id": "4871e4de-74de-4c98-b3a9-e671ab20b7b5",
   "metadata": {},
   "outputs": [],
   "source": [
    "def get_vidio_features(video_url):\n",
    "    video_path = ''\n",
    "    while video_path == '':\n",
    "        video_path = download_video(video_url)\n",
    "    # answer = ''\n",
    "    answers = []\n",
    "    container = av.open(video_path)\n",
    "\n",
    "    # sample uniformly 8 frames from the video\n",
    "    total_frames = container.streams.video[0].frames\n",
    "    indices = np.arange(0, total_frames, total_frames / 8).astype(int)\n",
    "    clip = read_video_pyav(container, indices)\n",
    "\n",
    "    inputs = processor(text='', videos=list(clip), return_tensors=\"pt\")\n",
    "    for i in inputs:\n",
    "        inputs[i] = inputs[i].to('cuda')\n",
    "    video_features = projector(model(**inputs).video_embeds)[0].tolist()\n",
    "    return video_features"
   ]
  },
  {
   "cell_type": "code",
   "execution_count": 8,
   "id": "217b51c2-0b26-49bb-ba40-1bcec8de5fb6",
   "metadata": {},
   "outputs": [
    {
     "name": "stderr",
     "output_type": "stream",
     "text": [
      "  0%|                                                                                                                                                                                                               | 0/385 [00:00<?, ?it/s]/home/vladimir/.virtualenvs/ml/lib/python3.10/site-packages/transformers/feature_extraction_utils.py:141: UserWarning: Creating a tensor from a list of numpy.ndarrays is extremely slow. Please consider converting the list to a single numpy.ndarray with numpy.array() before converting to a tensor. (Triggered internally at ../torch/csrc/utils/tensor_new.cpp:274.)\n",
      "  return torch.tensor(value)\n",
      "  1%|██                                                                                                                                                                                                     | 4/385 [00:03<05:29,  1.16it/s]"
     ]
    },
    {
     "name": "stdout",
     "output_type": "stream",
     "text": [
      "An error occurred: HTTPSConnectionPool(host='cdn-st.rutubelist.ru', port=443): Read timed out. (read timeout=300)\n"
     ]
    },
    {
     "name": "stderr",
     "output_type": "stream",
     "text": [
      " 25%|████████████████████████████████████████████████▊                                                                                                                                                     | 95/385 [07:18<06:59,  1.45s/it]"
     ]
    },
    {
     "name": "stdout",
     "output_type": "stream",
     "text": [
      "An error occurred: HTTPSConnectionPool(host='cdn-st.rutubelist.ru', port=443): Read timed out. (read timeout=300)\n"
     ]
    },
    {
     "name": "stderr",
     "output_type": "stream",
     "text": [
      " 59%|████████████████████████████████████████████████████████████████████████████████████████████████████████████████████▏                                                                                | 227/385 [14:46<03:35,  1.36s/it]"
     ]
    },
    {
     "name": "stdout",
     "output_type": "stream",
     "text": [
      "An error occurred: HTTPSConnectionPool(host='cdn-st.rutubelist.ru', port=443): Read timed out. (read timeout=300)\n"
     ]
    },
    {
     "name": "stderr",
     "output_type": "stream",
     "text": [
      " 69%|████████████████████████████████████████████████████████████████████████████████████████████████████████████████████████████████████████                                                             | 266/385 [20:35<03:00,  1.51s/it]"
     ]
    },
    {
     "name": "stdout",
     "output_type": "stream",
     "text": [
      "An error occurred: HTTPSConnectionPool(host='cdn-st.rutubelist.ru', port=443): Read timed out. (read timeout=300)\n"
     ]
    },
    {
     "name": "stderr",
     "output_type": "stream",
     "text": [
      "100%|█████████████████████████████████████████████████████████████████████████████████████████████████████████████████████████████████████████████████████████████████████████████████████████████████████| 385/385 [27:49<00:00,  4.34s/it]\n"
     ]
    }
   ],
   "source": [
    "result = []\n",
    "for video_url in tqdm(urls):\n",
    "    try:\n",
    "        video_features = get_vidio_features(video_url)\n",
    "        result.append({\n",
    "            'link': video_url,\n",
    "            'video_embedding': video_features\n",
    "        })\n",
    "    except Exception:\n",
    "        continue"
   ]
  },
  {
   "cell_type": "code",
   "execution_count": 9,
   "id": "5acd7ff7-b493-4d44-80be-5f11f3deabc7",
   "metadata": {},
   "outputs": [],
   "source": [
    "# json.dump(result, open('xclip.json', 'w'))"
   ]
  },
  {
   "cell_type": "code",
   "execution_count": 10,
   "id": "9673b651-0b32-472d-acb7-9c1e728df9dc",
   "metadata": {},
   "outputs": [],
   "source": [
    "json.dump(result, open('finetuned-xclip-validation.json', 'w'))"
   ]
  },
  {
   "cell_type": "code",
   "execution_count": 11,
   "id": "29642236-6fda-48bd-9113-96da2ba887e3",
   "metadata": {},
   "outputs": [
    {
     "data": {
      "text/plain": [
       "1024"
      ]
     },
     "execution_count": 11,
     "metadata": {},
     "output_type": "execute_result"
    }
   ],
   "source": [
    "len(result[0]['video_embedding'])"
   ]
  },
  {
   "cell_type": "code",
   "execution_count": 12,
   "id": "64bea00b-ba09-407f-bc0b-cf7feb7df8b3",
   "metadata": {},
   "outputs": [
    {
     "data": {
      "text/plain": [
       "384"
      ]
     },
     "execution_count": 12,
     "metadata": {},
     "output_type": "execute_result"
    }
   ],
   "source": [
    "len(result)"
   ]
  },
  {
   "cell_type": "code",
   "execution_count": null,
   "id": "f7579ac8-4b8c-4562-9cac-39edaa66b441",
   "metadata": {},
   "outputs": [],
   "source": []
  }
 ],
 "metadata": {
  "kernelspec": {
   "display_name": "Python 3 (ipykernel)",
   "language": "python",
   "name": "python3"
  },
  "language_info": {
   "codemirror_mode": {
    "name": "ipython",
    "version": 3
   },
   "file_extension": ".py",
   "mimetype": "text/x-python",
   "name": "python",
   "nbconvert_exporter": "python",
   "pygments_lexer": "ipython3",
   "version": "3.10.12"
  }
 },
 "nbformat": 4,
 "nbformat_minor": 5
}
